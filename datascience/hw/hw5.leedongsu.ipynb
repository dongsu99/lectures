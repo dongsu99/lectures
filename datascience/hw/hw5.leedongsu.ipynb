import numpy as np
import pandas as pd
from matplotlib import pyplot as plt
import seaborn


data = pd.read_csv('data/president_heights.csv.csv')
data.head()
heights = np.array(data['height(cm)'])
print(heights)

print('Mean heights = ',np.mean(heights))
print('Standard deviation = ',np.std(heights))
print('Minimum height = ',np.min(heights))
print('Maximum height = ',np.max(heights))
print('25th percentile = ',np.percentile(heights,25)) 
print('Median = ',np.median(heights))
print('75th percentile = ',np.percentile(heights,75))

max_idx = np.argmax(heights)
min_idx = np.argmin(heights)
print('max_idx = ',np.argmax(heights))
print('min_idx = ',np.argmin(heights))

max_name = data.iloc[max_idx]['name']
min_name = data.iloc[min_idx]['name']

print("The tallest president is", max_name)
print("The smallest president is", min_name)

%matplotlib inline
%config InlineBackend.figure_format = 'svg'
seaborn.set()

plt.hist(heights)
plt.title('Height Distribution of US President')
plt.xlabel('height (cm)')
plt.ylabel('number')
plt.show()
