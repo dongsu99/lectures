lovely_loveseat_description = "Lovely Loveseat. Tufted polyester blend on wood. 32 inches high x 40 inches wide x 30 inches deep. Red or white."
lovely_loveseat_price = 254.00
Stylish_settee_descriptio = "Stylish Settee. Faux leather on birch. 29.50 inches high x 54.75 inches wide x 28 inches deep. Black."
Stylish_settee_price = 180.50
Luxury_lamp_description = "Luxurious Lamp. Glass and iron. 36 inches tall. Brown with cream shade."
Luxury_lamp_price = 52.15
sales_tax = 0.88
customer_one_total = 254.00 + 52.15 
customer_one_itemization = "Lovely Loveseat. Tufted polyester blend on wood. 32 inches high x 40 inches wide x 30 inches deep. Red or white. Luxurious Lamp. Glass and iron. 36 inches tall. Brown with cream shade."
customer_one_tax = customer_one_total * sales_tax
customer_one_total += customer_one_tax
print("Customer One Items: Lovely Loveseat , Luxurious Lamp")
print(customer_one_itemization)
print("Customer One Total:",customer_one_total)
