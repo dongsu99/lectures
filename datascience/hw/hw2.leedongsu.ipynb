subjects = ["physics","calculus","peotry","history"]
grades = [98,97,85,88]
gradebook = [['physics', 98], ['calculus', 97], ['poetry', 85], ['history', 88]]
print(gradebook)
gradebook.append(['computer science', 100])
gradebook.append(['visual arts', 93])
gradebook[5][1] = 98
gradebook.pop(2)
gradebook.insert(2,['poetry', 'pass'])
last_semester_gradebook = [["politics", 80], ["latin", 96], ["dance", 97], ["architecture", 65]]
full_gradebook = last_semester_gradebook + gradebook
print(full_gradebook)
